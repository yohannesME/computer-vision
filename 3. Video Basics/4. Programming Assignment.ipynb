{
 "cells": [
  {
   "cell_type": "code",
   "execution_count": 1,
   "metadata": {},
   "outputs": [],
   "source": [
    "import cv2"
   ]
  },
  {
   "cell_type": "code",
   "execution_count": 2,
   "metadata": {},
   "outputs": [],
   "source": [
    "def draw_circle(event, x, y, flags, param):\n",
    "    global center, clicked\n",
    "    \n",
    "    #get mouse clicked down and track center\n",
    "    if event == cv2.EVENT_LBUTTONDOWN:\n",
    "        center = (x, y)\n",
    "        clicked = False\n",
    "        \n",
    "    #Use boolean variable to track if the mouse has been released\n",
    "    if event == cv2.EVENT_LBUTTONUP:\n",
    "        clicked = True\n",
    "        \n",
    "#haven't drawn anything yet!\n",
    "center = (0,0)\n",
    "clicked = False\n",
    "\n",
    "#capture the video\n",
    "cap = cv2.VideoCapture(0)\n",
    "\n",
    "#create a named window for connections\n",
    "cv2.namedWindow('window1')\n",
    "\n",
    "#bind draw_circle function to mouse clicks\n",
    "cv2.setMouseCallback('window1', draw_circle)\n",
    "\n",
    "while True:\n",
    "    \n",
    "    #Capture frame-by-frame\n",
    "    ret, frame = cap.read()\n",
    "    \n",
    "    #Use if statement to see if clicked is true\n",
    "    if clicked == True:\n",
    "        #Draw circle on frame\n",
    "        cv2.circle(frame, center=center, radius=50, color=(255, 0, 0), thickness = 5)\n",
    "        \n",
    "    #Display the resulting frame\n",
    "    cv2.imshow('window1', frame)\n",
    "    \n",
    "    #This command let's us quit with the \"q\" utton on the keyboard\n",
    "    if cv2.waitKey(1) & 0xFF == ord('q'):\n",
    "        break\n",
    "        \n",
    "#When everything is done, release the capture\n",
    "cap.release()\n",
    "cv2.destroyAllWindows()"
   ]
  }
 ],
 "metadata": {
  "kernelspec": {
   "display_name": "Python 3",
   "language": "python",
   "name": "python3"
  },
  "language_info": {
   "codemirror_mode": {
    "name": "ipython",
    "version": 3
   },
   "file_extension": ".py",
   "mimetype": "text/x-python",
   "name": "python",
   "nbconvert_exporter": "python",
   "pygments_lexer": "ipython3",
   "version": "3.7.4"
  }
 },
 "nbformat": 4,
 "nbformat_minor": 4
}
